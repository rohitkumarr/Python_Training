{
 "cells": [
  {
   "cell_type": "code",
   "execution_count": 1,
   "metadata": {
    "collapsed": true
   },
   "outputs": [],
   "source": [
    "#Exception handling---------------------------------------------------------------------"
   ]
  },
  {
   "cell_type": "code",
   "execution_count": 2,
   "metadata": {},
   "outputs": [
    {
     "name": "stdout",
     "output_type": "stream",
     "text": [
      "entr 1st no5\n",
      "entr 2st no6\n",
      "ans of division is  0.8333333333333334\n",
      "bye\n"
     ]
    }
   ],
   "source": [
    "try:\n",
    "    num1=int(input(\"entr 1st no=\"))\n",
    "    num2=int(input(\"entr 2st no=\"))\n",
    "    ans=num1/num2\n",
    "except:\n",
    "    print(\"sorry you can't divide no by zero\")\n",
    "else:\n",
    "    print(\"ans of division is \",ans)\n",
    "finally:\n",
    "    print(\"bye\")"
   ]
  },
  {
   "cell_type": "code",
   "execution_count": 9,
   "metadata": {},
   "outputs": [
    {
     "name": "stdout",
     "output_type": "stream",
     "text": [
      "enter empid:11\n",
      "enter empname:tom\n",
      "enter empid:12\n",
      "enter empname:rk\n",
      "enter empid:13\n",
      "enter empname:kp\n",
      "enter empid:-999\n",
      "entr the empid for search: 13\n",
      "emp name is  kp\n",
      "bye\n"
     ]
    }
   ],
   "source": [
    "#wap create a dict take empid as key name as value\n",
    "#keep on adding empid and names till user enters -999 for the empid \n",
    "#do the exception handling for searching the empid \n",
    "#take the input empid from user , if it exist print the name, of emp if it does'nt exist\n",
    "#print emp does not exist use except\n",
    "\n",
    "d={}\n",
    "while(1):\n",
    "    empid=int(input(\"enter empid:\"))\n",
    "    if empid==-999:\n",
    "        break\n",
    "    empname=input(\"enter empname:\")\n",
    "    d[empid]=empname\n",
    "\n",
    "try:\n",
    "    x=int(input(\"entr the empid for search: \"))\n",
    "    if x in d.keys():\n",
    "        ans=d[x]\n",
    "except:\n",
    "    print(\"emp does not exist\")\n",
    "else:\n",
    "    print(\"emp name is \",ans)\n",
    "finally:\n",
    "    print(\"bye\")"
   ]
  },
  {
   "cell_type": "code",
   "execution_count": 19,
   "metadata": {},
   "outputs": [
    {
     "name": "stdout",
     "output_type": "stream",
     "text": [
      "entr 1st no=78\n",
      "entr 2st no=0\n",
      "sorry you can't divide no by zero\n",
      "bye\n"
     ]
    }
   ],
   "source": [
    "# in case of strings\n",
    "\n",
    "try:\n",
    "    num1=int(input(\"entr 1st no=\"))\n",
    "    num2=int(input(\"entr 2st no=\"))\n",
    "    ans=num1/num2\n",
    "except ZeroDivisionError:\n",
    "    print(\"sorry you can't divide no by zero\")\n",
    "except ValueError:\n",
    "    print(\"Sorry you can not divide strings\")\n",
    "else:\n",
    "    print(\"ans of division is \",ans)\n",
    "finally:\n",
    "    print(\"bye\")"
   ]
  },
  {
   "cell_type": "code",
   "execution_count": 20,
   "metadata": {},
   "outputs": [
    {
     "name": "stdout",
     "output_type": "stream",
     "text": [
      "entr 1st no=34\n",
      "entr 2st no=0\n",
      "exception name is  <class 'ZeroDivisionError'>\n",
      "description of exception is  division by zero\n",
      "bye\n"
     ]
    }
   ],
   "source": [
    "#when you are not aware of other exceptions, \n",
    "#exc_info returns a list of exceptions, where oth index is for \"name of exception\" and 1st index is for 'description of exception' \n",
    "#we can use  exc_info()[0]-- shows the name of exception\n",
    "#exc_info()[1]-- shows the description of exception\n",
    "\n",
    "import sys\n",
    "try:\n",
    "    num1=int(input(\"entr 1st no=\"))\n",
    "    num2=int(input(\"entr 2st no=\"))\n",
    "    ans=num1/num2\n",
    "except:\n",
    "    print(\"exception name is \", sys.exc_info()[0])\n",
    "    print(\"description of exception is \", sys.exc_info()[1])\n",
    "else:\n",
    "    print(\"ans of division is \",ans)\n",
    "finally:\n",
    "    print(\"bye\")"
   ]
  },
  {
   "cell_type": "code",
   "execution_count": 26,
   "metadata": {},
   "outputs": [
    {
     "name": "stdout",
     "output_type": "stream",
     "text": [
      "entr 1st no=23\n",
      "entr 2st no=4\n",
      "ans of division is  5.75\n",
      "bye\n"
     ]
    }
   ],
   "source": [
    "#raise exception\n",
    "try:\n",
    "    num1=int(input(\"entr 1st no=\"))\n",
    "    num2=int(input(\"entr 2st no=\"))\n",
    "    ans=num1/num2\n",
    "    if num1<num2:\n",
    "        raise ZeroDivisionError\n",
    "except:\n",
    "    print(\"sorry you can't divide no by zero\")\n",
    "else:\n",
    "    print(\"ans of division is \",ans)\n",
    "finally:\n",
    "    print(\"bye\")"
   ]
  },
  {
   "cell_type": "code",
   "execution_count": 25,
   "metadata": {},
   "outputs": [
    {
     "name": "stdout",
     "output_type": "stream",
     "text": [
      "entr 1st no=23\n",
      "entr 2st no=56\n",
      "exception name is  <class 'AssertionError'>\n",
      "description of exception is  num1 can not be lesser than num2\n",
      "bye\n"
     ]
    }
   ],
   "source": [
    "#assert exception\n",
    "import sys\n",
    "try:\n",
    "    num1=int(input(\"entr 1st no=\"))\n",
    "    num2=int(input(\"entr 2st no=\"))\n",
    "    ans=num1/num2\n",
    "    assert num1>num2, 'num1 can not be lesser than num2'\n",
    "except:\n",
    "    print(\"exception name is \", sys.exc_info()[0])\n",
    "    print(\"description of exception is \", sys.exc_info()[1])\n",
    "else:\n",
    "    print(\"ans of division is \",ans)\n",
    "finally:\n",
    "    print(\"bye\")"
   ]
  },
  {
   "cell_type": "code",
   "execution_count": 34,
   "metadata": {},
   "outputs": [
    {
     "name": "stdout",
     "output_type": "stream",
     "text": [
      "entr the 16 digit credit card num12345678990der34\n",
      "alphabets not invalid literal for int() with base 10: '12345678990der34'\n"
     ]
    }
   ],
   "source": [
    "#wap using mul assert statement authenticate the credit card num,\n",
    "#take a input from user 16 digit credit card number, \n",
    "#if the num contains any alphabets or if it is not of exact 16 digits or \n",
    "#it starts with zerio its a invalid credit card\n",
    "\n",
    "import sys\n",
    "\n",
    "try:\n",
    "    ccno=input(\"entr the 16 digit credit card num\")\n",
    "    assert len(ccno)==16, \"its not a 16 digit no\"\n",
    "    assert ccno[0] !='0', 'cc is not correct ,starts with 0'\n",
    "    cc=int(ccno)\n",
    "except:\n",
    "    print(\"alphabets not\",sys.exc_info()[1])\n",
    "else:\n",
    "    print(\"its a valid card number\")"
   ]
  },
  {
   "cell_type": "code",
   "execution_count": 2,
   "metadata": {},
   "outputs": [
    {
     "name": "stdout",
     "output_type": "stream",
     "text": [
      "enter a name of employee=dfdnb\n",
      "exception is =  sorry we cannot give you discount\n"
     ]
    }
   ],
   "source": [
    "#wap to using assert satements to take input from user , name of an employee.\n",
    "#if every alternate character of name contains a or A ,,you give a discount of 10%\n",
    "#otherwise no dicount\n",
    "import sys\n",
    "try:\n",
    "    name=input(\"enter a name of employee=\")\n",
    "    num=len(name[1::2])\n",
    "    flag=0\n",
    "    for x in name[1::2]:\n",
    "        if x.upper() in ['A']:\n",
    "            flag+=1\n",
    "    assert flag==num, 'sorry we cannot give you discount'\n",
    "except:\n",
    "    print(\"exception is = \",sys.exc_info()[1])\n",
    "else:\n",
    "    print(\"success, you are eligible for 10% discount\")"
   ]
  },
  {
   "cell_type": "code",
   "execution_count": 2,
   "metadata": {
    "collapsed": true
   },
   "outputs": [],
   "source": [
    "#RegularExpression---------------------------------------------------------------------------"
   ]
  },
  {
   "cell_type": "code",
   "execution_count": 4,
   "metadata": {},
   "outputs": [
    {
     "name": "stdout",
     "output_type": "stream",
     "text": [
      "<_sre.SRE_Match object; span=(9, 11), match='py'>\n"
     ]
    }
   ],
   "source": [
    "import re\n",
    "print(re.search('py','Learning python'))"
   ]
  },
  {
   "cell_type": "code",
   "execution_count": 9,
   "metadata": {},
   "outputs": [
    {
     "data": {
      "text/plain": [
       "'py'"
      ]
     },
     "execution_count": 9,
     "metadata": {},
     "output_type": "execute_result"
    }
   ],
   "source": [
    "import re\n",
    "x=re.search('py','Learning python') #x is an object and it has a function group()\n",
    "x.group() #group tells what excatly mathes"
   ]
  },
  {
   "cell_type": "code",
   "execution_count": 11,
   "metadata": {
    "collapsed": true
   },
   "outputs": [],
   "source": [
    "import re\n",
    "re.match('le','Learning python')"
   ]
  },
  {
   "cell_type": "code",
   "execution_count": 21,
   "metadata": {
    "collapsed": true
   },
   "outputs": [],
   "source": [
    "import re\n",
    "m=re.match(r\"(..)+\", 'exlservices') #searches for group of 2 characters "
   ]
  },
  {
   "cell_type": "markdown",
   "metadata": {},
   "source": [
    "m.group()"
   ]
  },
  {
   "cell_type": "code",
   "execution_count": 16,
   "metadata": {},
   "outputs": [
    {
     "data": {
      "text/plain": [
       "'exlservice'"
      ]
     },
     "execution_count": 16,
     "metadata": {},
     "output_type": "execute_result"
    }
   ],
   "source": [
    "m.group()"
   ]
  },
  {
   "cell_type": "code",
   "execution_count": 17,
   "metadata": {},
   "outputs": [
    {
     "data": {
      "text/plain": [
       "'exlservic'"
      ]
     },
     "execution_count": 17,
     "metadata": {},
     "output_type": "execute_result"
    }
   ],
   "source": [
    "import re\n",
    "m=re.match(r\"(...)+\", 'exlservices')\n",
    "m.group()"
   ]
  },
  {
   "cell_type": "code",
   "execution_count": 18,
   "metadata": {},
   "outputs": [
    {
     "data": {
      "text/plain": [
       "'amit@gmail.com, sunil@gmail.com, suresh@gmail.com'"
      ]
     },
     "execution_count": 18,
     "metadata": {},
     "output_type": "execute_result"
    }
   ],
   "source": [
    "#re.sub() ..replacement\n",
    "import re\n",
    "emails=\"amit@yahoo.com, sunil@yahoo.com, suresh@yahoo.com\"\n",
    "re.sub('yahoo', 'gmail', emails)"
   ]
  },
  {
   "cell_type": "code",
   "execution_count": 20,
   "metadata": {},
   "outputs": [
    {
     "name": "stdout",
     "output_type": "stream",
     "text": [
      "['nita.kumar@gmail.com', 'sunita-devi@gmail.com', 'viineet1-2.sharma@gmail.com', 'subhi@gmail.com']\n"
     ]
    }
   ],
   "source": [
    "#search all the gmail ids from an external file data.txt at location \"C:\\Users\\rohit143255\\Desktop\\data.txt\"\n",
    "import re\n",
    "with open('C:\\\\Users\\\\rohit143255\\\\Desktop\\\\data.txt','r') as fp:\n",
    "    match_all = re.findall(r'[\\w\\.-]+@gmail.com', fp.read())\n",
    "    print(match_all)"
   ]
  },
  {
   "cell_type": "code",
   "execution_count": 23,
   "metadata": {},
   "outputs": [
    {
     "name": "stdout",
     "output_type": "stream",
     "text": [
      "customer: rohit\n",
      "age: 25\n",
      "salary: 250000\n",
      "city: rohit\n"
     ]
    }
   ],
   "source": [
    "#search all the gmail ids from an external file data.txt at location \"C:\\Users\\rohit143255\\Desktop\\data.xml\"\n",
    "\n",
    "import re\n",
    "fp = open('C:\\\\Users\\\\rohit143255\\\\Desktop\\\\data.xml','r')\n",
    "for i in fp:\n",
    "    data = re.search(r'<([a-z]+)>(.*)</\\1>', i)\n",
    "    print(data.group(1)+\":\",data.group(2))\n",
    "fp.close()   "
   ]
  },
  {
   "cell_type": "code",
   "execution_count": 37,
   "metadata": {},
   "outputs": [
    {
     "name": "stdout",
     "output_type": "stream",
     "text": [
      "amit has a profit of 10\n",
      "suman has a profit of 20\n",
      "john has no profit and no loss\n",
      "kiran has a profit of 60\n",
      "atul has a loss of 60\n",
      "sumit has a profit of 20\n"
     ]
    }
   ],
   "source": [
    "#wap for finding the profit and loss using regex..with the name of the customers from the file data1.txt from desktop\n",
    "\n",
    "import re\n",
    "fp = open('C:\\\\Users\\\\rohit143255\\\\Desktop\\\\data1.txt','r')\n",
    "for i in fp:\n",
    "    data = re.search(r'(\\w+)\\s(\\d+)\\s(\\d+)', i)\n",
    "    cp=int(data.group(2))\n",
    "    sp=int(data.group(3))\n",
    "    \n",
    "    if sp>cp:\n",
    "        print(data.group(1)+\" has a profit of\",sp-cp)\n",
    "    elif cp>sp:\n",
    "        print(data.group(1)+\" has a loss of\",cp-sp)\n",
    "    else:\n",
    "        print(data.group(1)+\" has no profit and no loss\")\n",
    "    \n",
    "fp.close()"
   ]
  },
  {
   "cell_type": "code",
   "execution_count": null,
   "metadata": {
    "collapsed": true
   },
   "outputs": [],
   "source": [
    "# diff b/w with"
   ]
  }
 ],
 "metadata": {
  "kernelspec": {
   "display_name": "Python 3",
   "language": "python",
   "name": "python3"
  },
  "language_info": {
   "codemirror_mode": {
    "name": "ipython",
    "version": 3
   },
   "file_extension": ".py",
   "mimetype": "text/x-python",
   "name": "python",
   "nbconvert_exporter": "python",
   "pygments_lexer": "ipython3",
   "version": "3.6.1"
  }
 },
 "nbformat": 4,
 "nbformat_minor": 2
}
