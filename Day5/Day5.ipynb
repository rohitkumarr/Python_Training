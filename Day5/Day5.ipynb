{
 "cells": [
  {
   "cell_type": "code",
   "execution_count": 1,
   "metadata": {
    "collapsed": true
   },
   "outputs": [],
   "source": [
    "#OOPs--------------------------------------------------------------"
   ]
  },
  {
   "cell_type": "code",
   "execution_count": 2,
   "metadata": {},
   "outputs": [
    {
     "name": "stdout",
     "output_type": "stream",
     "text": [
      "<__main__.car object at 0x06A2DEF0>\n",
      "<__main__.car object at 0x06A2DF10>\n"
     ]
    }
   ],
   "source": [
    "class car():\n",
    "    pass\n",
    "\n",
    "sedan = car() #sedan is an object , also known as the instance of class car\n",
    "sports_car = car() #sports_car is an object , also known as the instance of class car\n",
    "print(sedan) #prints mem-address of sedan object\n",
    "print(sports_car) #prints mem-address of sports_car object"
   ]
  },
  {
   "cell_type": "code",
   "execution_count": 3,
   "metadata": {
    "collapsed": true
   },
   "outputs": [],
   "source": [
    "#constructor"
   ]
  },
  {
   "cell_type": "code",
   "execution_count": 5,
   "metadata": {},
   "outputs": [
    {
     "name": "stdout",
     "output_type": "stream",
     "text": [
      " i am constructor and autoexecutable\n",
      " i am constructor and autoexecutable\n"
     ]
    }
   ],
   "source": [
    "class car():\n",
    "    def __init__(self): # __init__() is a default constructor\n",
    "        print(\" i am constructor and autoexecutable\")\n",
    "    \n",
    "    \n",
    "sedan = car()\n",
    "sports_car=car()"
   ]
  },
  {
   "cell_type": "code",
   "execution_count": 7,
   "metadata": {},
   "outputs": [
    {
     "name": "stdout",
     "output_type": "stream",
     "text": [
      "I am constructor and autoexecutable\n",
      "I am constructor and autoexecutable\n",
      "I have Red color\n",
      "I have Blue color\n"
     ]
    }
   ],
   "source": [
    "class car():\n",
    "    def __init__(self):  \n",
    "        print(\"I am constructor and autoexecutable\")\n",
    "    def color(self, color): #every method writen in class , self is mandatory\n",
    "        print(\"I have\", color, \"color\")\n",
    "    \n",
    "sedan = car()\n",
    "sports_car=car()\n",
    "sedan.color('Red')\n",
    "sports_car.color('Blue')"
   ]
  },
  {
   "cell_type": "code",
   "execution_count": 10,
   "metadata": {},
   "outputs": [
    {
     "name": "stdout",
     "output_type": "stream",
     "text": [
      "I am constructor and autoexecutable\n",
      "I am constructor and autoexecutable\n",
      "I have Red color\n",
      "I have Blue color\n",
      "I have Black tyre color\n",
      "I have Orange tyre color\n"
     ]
    }
   ],
   "source": [
    "class car():\n",
    "    def __init__(self):  \n",
    "        print(\"I am constructor and autoexecutable\")\n",
    "    def color(self, color): #every method writen in class , self is mandatory\n",
    "        print(\"I have\", color, \"color\")\n",
    "    def tyres(self,color):\n",
    "        print(\"I have\", color, \"tyre color\")\n",
    "    \n",
    "sedan = car()\n",
    "sports_car=car()\n",
    "sedan.color('Red')\n",
    "sports_car.color('Blue')\n",
    "sedan.tyres('Red')\n",
    "sports_car.tyres(\"Blue\")"
   ]
  },
  {
   "cell_type": "code",
   "execution_count": 13,
   "metadata": {},
   "outputs": [
    {
     "name": "stdout",
     "output_type": "stream",
     "text": [
      "I am constructor and autoexecutable\n",
      "I am constructor and autoexecutable\n",
      "I have Red color\n",
      "I have Blue color\n",
      "I have Red tyre color\n",
      "I have Blue tyre color\n"
     ]
    }
   ],
   "source": [
    "class car():\n",
    "    def __init__(self,c):  \n",
    "        print(\"I am constructor and autoexecutable\")\n",
    "        self.color=c\n",
    "    def color1(self): #every method writen in class , self is mandatory\n",
    "        print(\"I have\", self.color, \"color\")\n",
    "    def tyres(self):\n",
    "        print(\"I have\", self.color, \"tyre color\")\n",
    "    \n",
    "sedan = car('Red')\n",
    "sports_car=car('Blue')\n",
    "sedan.color1()\n",
    "sports_car.color1()\n",
    "sedan.tyres()\n",
    "sports_car.tyres()"
   ]
  },
  {
   "cell_type": "code",
   "execution_count": 16,
   "metadata": {},
   "outputs": [
    {
     "name": "stdout",
     "output_type": "stream",
     "text": [
      "enter lenght=4\n",
      "enter breadth=5\n",
      "area is= 20\n",
      "perimeter is= 40\n"
     ]
    }
   ],
   "source": [
    "#wap to take l and b from user in main() ,pass it to  a constructor to create a object, \n",
    "#create two methods area and perimeter which should print area and perimeter of rectangle\n",
    "\n",
    "class rectangle():\n",
    "    def __init__(self,l,b):\n",
    "        self.length=l\n",
    "        self.breadth=b\n",
    "    def area(self):\n",
    "        print(\"area is=\",self.length*self.breadth)\n",
    "        \n",
    "    def perimeter(self):\n",
    "        print(\"perimeter is=\",2*(self.length*self.breadth))    \n",
    "        \n",
    "l=int(input(\"enter lenght=\"))\n",
    "b=int(input(\"enter breadth=\"))\n",
    "\n",
    "obj=rectangle(l,b)\n",
    "obj.area()\n",
    "obj.perimeter()\n",
    "        "
   ]
  },
  {
   "cell_type": "code",
   "execution_count": 25,
   "metadata": {},
   "outputs": [
    {
     "name": "stdout",
     "output_type": "stream",
     "text": [
      "enter the name of emp = Rohit\n",
      "Total no of upper case letters are=  1\n",
      "Not palindrome\n",
      "Name don't have last name\n"
     ]
    }
   ],
   "source": [
    "'''wap to take input from user name of emp in constructor\n",
    "create a method calculate which should count total no of capital letters in name\n",
    "create method which should chechk name is palindrom or not\n",
    "create method split the name into first njame and last name and print separatly\n",
    "'''\n",
    "\n",
    "class emp():\n",
    "    def __init__(self):\n",
    "        self.name=input(\"enter the name of emp = \")\n",
    "    def calculate(self):\n",
    "        count=0\n",
    "        for x in self.name:\n",
    "            if ord(x)>=65 and ord(x)<=90: # ord() is for finding the ASCII value of character\n",
    "                count+=1\n",
    "        print(\"Total no of upper case letters are= \",count)\n",
    "        \n",
    "    def palindrome(self):\n",
    "        if self.name==self.name[::-1]:\n",
    "            print(\"Name is palindrome\")\n",
    "        else:    \n",
    "            print(\"Not palindrome\")\n",
    "            \n",
    "    def split_name(self):\n",
    "        flag=0\n",
    "        for i in self.name: # loop is for when you put a name which has space in between\n",
    "            if i==' ':\n",
    "                flag=1\n",
    "        if flag==1:        \n",
    "            list1=self.name.split(' ')\n",
    "            fname=list1[0]\n",
    "            lname=list1[1]\n",
    "            print(\"First name is =\",fname,'and last name is =',lname)\n",
    "        else:\n",
    "            print(\"Name don't have last name\")\n",
    "        \n",
    "obj=emp()\n",
    "obj.calculate()\n",
    "obj.palindrome()\n",
    "obj.split_name()\n",
    "        "
   ]
  },
  {
   "cell_type": "code",
   "execution_count": 26,
   "metadata": {
    "collapsed": true
   },
   "outputs": [],
   "source": [
    "#public , protected, private"
   ]
  },
  {
   "cell_type": "code",
   "execution_count": 29,
   "metadata": {},
   "outputs": [
    {
     "name": "stdout",
     "output_type": "stream",
     "text": [
      "Amit\n",
      "24\n"
     ]
    }
   ],
   "source": [
    "class A():\n",
    "    def __init__(self):\n",
    "        self.name='Amit' #public var\n",
    "        self._age=24  #protected var\n",
    "        self.__salary=40000  #private var\n",
    "        \n",
    "obj=A()\n",
    "print(obj.name)\n",
    "print(obj._age)\n",
    "        "
   ]
  },
  {
   "cell_type": "code",
   "execution_count": 30,
   "metadata": {},
   "outputs": [
    {
     "name": "stdout",
     "output_type": "stream",
     "text": [
      "Amit\n",
      "24\n"
     ]
    },
    {
     "ename": "AttributeError",
     "evalue": "'A' object has no attribute '__salary'",
     "output_type": "error",
     "traceback": [
      "\u001b[1;31m---------------------------------------------------------------------------\u001b[0m",
      "\u001b[1;31mAttributeError\u001b[0m                            Traceback (most recent call last)",
      "\u001b[1;32m<ipython-input-30-e11becb6eda4>\u001b[0m in \u001b[0;36m<module>\u001b[1;34m()\u001b[0m\n\u001b[0;32m      8\u001b[0m \u001b[0mprint\u001b[0m\u001b[1;33m(\u001b[0m\u001b[0mobj\u001b[0m\u001b[1;33m.\u001b[0m\u001b[0mname\u001b[0m\u001b[1;33m)\u001b[0m\u001b[1;33m\u001b[0m\u001b[0m\n\u001b[0;32m      9\u001b[0m \u001b[0mprint\u001b[0m\u001b[1;33m(\u001b[0m\u001b[0mobj\u001b[0m\u001b[1;33m.\u001b[0m\u001b[0m_age\u001b[0m\u001b[1;33m)\u001b[0m\u001b[1;33m\u001b[0m\u001b[0m\n\u001b[1;32m---> 10\u001b[1;33m \u001b[0mprint\u001b[0m\u001b[1;33m(\u001b[0m\u001b[0mobj\u001b[0m\u001b[1;33m.\u001b[0m\u001b[0m__salary\u001b[0m\u001b[1;33m)\u001b[0m\u001b[1;33m\u001b[0m\u001b[0m\n\u001b[0m",
      "\u001b[1;31mAttributeError\u001b[0m: 'A' object has no attribute '__salary'"
     ]
    }
   ],
   "source": [
    "class A():\n",
    "    def __init__(self):\n",
    "        self.name='Amit'\n",
    "        self._age=24\n",
    "        self.__salary=40000\n",
    "        \n",
    "obj=A()\n",
    "print(obj.name)\n",
    "print(obj._age)\n",
    "print(obj.__salary) #it give error if access without prefix _class"
   ]
  },
  {
   "cell_type": "code",
   "execution_count": 31,
   "metadata": {},
   "outputs": [
    {
     "name": "stdout",
     "output_type": "stream",
     "text": [
      "Amit\n",
      "24\n",
      "40000\n"
     ]
    }
   ],
   "source": [
    "class A():\n",
    "    def __init__(self):\n",
    "        self.name='Amit'\n",
    "        self._age=24\n",
    "        self.__salary=40000\n",
    "        \n",
    "obj=A()\n",
    "print(obj.name)\n",
    "print(obj._age)\n",
    "print(obj._A__salary)"
   ]
  },
  {
   "cell_type": "code",
   "execution_count": 34,
   "metadata": {},
   "outputs": [
    {
     "name": "stdout",
     "output_type": "stream",
     "text": [
      "i am public method\n",
      "i am protected method\n",
      "i am private method\n"
     ]
    }
   ],
   "source": [
    "class A():\n",
    "    def fun(self):\n",
    "        print(\"i am public method\")\n",
    "    def _fun1(self):\n",
    "        print(\"i am protected method\")\n",
    "    def __fun2(self):\n",
    "        print(\"i am private method\")\n",
    "        \n",
    "obj=A()\n",
    "obj.fun()\n",
    "obj._fun1()\n",
    "obj._A__fun2()"
   ]
  },
  {
   "cell_type": "code",
   "execution_count": 35,
   "metadata": {},
   "outputs": [
    {
     "name": "stdout",
     "output_type": "stream",
     "text": [
      "enter coursepython\n",
      "you have enrolled for   python\n",
      "enter the course you want to changesas\n",
      "now you have enrolled for  sas\n"
     ]
    }
   ],
   "source": [
    "\"\"\"wap take course name from user in which he wants to enroll\n",
    "create a method get_course to return the course name to main \n",
    "create method set_course to change the course\n",
    "user should not be able to change the course in main program if he do not know set_course method\"\"\"\n",
    "\n",
    "class Course():\n",
    "    def __init__(self):\n",
    "        self.__cname=input(\"enter course \")\n",
    "        \n",
    "    def get_course(self):\n",
    "        return self.__cname\n",
    "    \n",
    "    def set_course(self):\n",
    "        self.__cname=input(\"enter the course you want to change \")\n",
    "        \n",
    "        \n",
    "obj=Course()\n",
    "print(\"you have enrolled for  \",obj.get_course())\n",
    "obj.set_course()\n",
    "print(\"now you have enrolled for \",obj.get_course())"
   ]
  },
  {
   "cell_type": "code",
   "execution_count": 36,
   "metadata": {
    "collapsed": true
   },
   "outputs": [],
   "source": [
    "#functional programming---------------------------------------------------------------------------------------------------------"
   ]
  },
  {
   "cell_type": "code",
   "execution_count": 39,
   "metadata": {},
   "outputs": [
    {
     "name": "stdout",
     "output_type": "stream",
     "text": [
      "hello world\n",
      "country is= India\n"
     ]
    }
   ],
   "source": [
    "#create a file on other location(dektop here) and call it from jupyter notebook\n",
    "\n",
    "import sys #sys is library\n",
    "sys.path.append('C:\\\\Users\\\\rohit143255\\\\Desktop')  #path is a variable which consist a list of paths, and here we'll append our file path\n",
    "import hello  #its a '.py' file on desktop treated as library\n",
    "hello.world()  #world() is function in library hello\n",
    "\n",
    "print('country is=',hello.var)  #var is variable in library hello "
   ]
  },
  {
   "cell_type": "code",
   "execution_count": 1,
   "metadata": {},
   "outputs": [
    {
     "name": "stdout",
     "output_type": "stream",
     "text": [
      "I am in fun\n"
     ]
    }
   ],
   "source": [
    "import sys\n",
    "sys.path.append('C:\\\\Users\\\\rohit143255\\\\Desktop')\n",
    "\n",
    "from class_file import A_class\n",
    "\n",
    "obj=A_class()\n",
    "obj.fun()"
   ]
  },
  {
   "cell_type": "code",
   "execution_count": 2,
   "metadata": {
    "collapsed": true
   },
   "outputs": [],
   "source": [
    "#inheritance------------------------------------------------------------------------------------------------"
   ]
  },
  {
   "cell_type": "code",
   "execution_count": 3,
   "metadata": {},
   "outputs": [
    {
     "name": "stdout",
     "output_type": "stream",
     "text": [
      "i am in base class and in fun\n"
     ]
    }
   ],
   "source": [
    "class base():\n",
    "    def fun(self):\n",
    "        print(\"i am in base class and in fun\")\n",
    "        \n",
    "class derived(base):\n",
    "    pass\n",
    "\n",
    "obj=derived()\n",
    "obj.fun()\n",
    "    "
   ]
  },
  {
   "cell_type": "code",
   "execution_count": 5,
   "metadata": {},
   "outputs": [
    {
     "name": "stdout",
     "output_type": "stream",
     "text": [
      "i am in base class constructor\n",
      "i am in base class and in fun\n"
     ]
    }
   ],
   "source": [
    "class base():\n",
    "    def __init__(self):\n",
    "        print(\"i am in base class constructor\")\n",
    "    def fun(self):\n",
    "        print(\"i am in base class and in fun\")\n",
    "        \n",
    "class derived(base):\n",
    "    pass\n",
    "\n",
    "obj=derived()\n",
    "obj.fun() #constructor wil also called\n",
    "    "
   ]
  },
  {
   "cell_type": "code",
   "execution_count": 6,
   "metadata": {},
   "outputs": [
    {
     "name": "stdout",
     "output_type": "stream",
     "text": [
      "i am in base class constructor\n",
      "i am in derived and in fun\n"
     ]
    }
   ],
   "source": [
    "class base():\n",
    "    def __init__(self):\n",
    "        print(\"i am in base class constructor\")\n",
    "    def fun(self):\n",
    "        print(\"i am in base class and in fun\")\n",
    "        \n",
    "class derived(base):\n",
    "    def fun(self):\n",
    "        print(\"i am in derived and in fun\")\n",
    "        \n",
    "#when fun() name is same then derived calss gets priority\n",
    "\n",
    "obj=derived()\n",
    "obj.fun() "
   ]
  },
  {
   "cell_type": "code",
   "execution_count": 10,
   "metadata": {},
   "outputs": [
    {
     "name": "stdout",
     "output_type": "stream",
     "text": [
      "I am in class A and in fun\n"
     ]
    }
   ],
   "source": [
    "class A():\n",
    "    def fun(self):\n",
    "        print(\"I am in class A and in fun\")\n",
    "             \n",
    "class B():\n",
    "    def fun(self):\n",
    "        print(\"i am in class b asnd in fun\")\n",
    "        \n",
    "class C(A,B): #inher happens right to left\n",
    "    pass\n",
    "        \n",
    "\n",
    "obj=C()\n",
    "obj.fun()        "
   ]
  },
  {
   "cell_type": "code",
   "execution_count": 11,
   "metadata": {},
   "outputs": [
    {
     "name": "stdout",
     "output_type": "stream",
     "text": [
      "i am in A class constructor\n",
      "I am in class A and in fun\n"
     ]
    }
   ],
   "source": [
    "class A():\n",
    "    def __init__(self):\n",
    "        print(\"i am in A class constructor\")\n",
    "    def fun(self):\n",
    "        print(\"I am in class A and in fun\")\n",
    "             \n",
    "class B():\n",
    "    def __init__(self):\n",
    "        print(\"i am in B class constructor\")\n",
    "    def fun(self):\n",
    "        print(\"i am in class b asnd in fun\")\n",
    "        \n",
    "class C(A,B): #inher happens right to left\n",
    "    pass\n",
    "        \n",
    "\n",
    "obj=C()\n",
    "obj.fun()        "
   ]
  },
  {
   "cell_type": "code",
   "execution_count": 19,
   "metadata": {},
   "outputs": [
    {
     "name": "stdout",
     "output_type": "stream",
     "text": [
      "emp salary = 500\n",
      "New sal is =  350.0\n"
     ]
    }
   ],
   "source": [
    "\"\"\"wap to take salary of emp in base class constructor\n",
    "calulate the net salary after 30% reduction of tax\n",
    "in the derived class\"\"\"\n",
    "\n",
    "class A():\n",
    "    def __init__(self):\n",
    "        self.sal=int(input(\"emp salary = \"))\n",
    "            \n",
    "class calculate(A):\n",
    "    def fun(self):\n",
    "        self.sal=self.sal-self.sal*0.3\n",
    "        print(\"New sal is = \",self.sal)\n",
    "        \n",
    "obj=calculate()\n",
    "obj.fun()"
   ]
  },
  {
   "cell_type": "code",
   "execution_count": null,
   "metadata": {
    "collapsed": true
   },
   "outputs": [],
   "source": [
    "#monkey patching ...a unique in python"
   ]
  },
  {
   "cell_type": "code",
   "execution_count": 20,
   "metadata": {},
   "outputs": [
    {
     "data": {
      "text/plain": [
       "200"
      ]
     },
     "execution_count": 20,
     "metadata": {},
     "output_type": "execute_result"
    }
   ],
   "source": [
    "class billing():\n",
    "    def cal(self,x,y):\n",
    "        return x*y\n",
    "obj=billing()\n",
    "obj.cal(10,20)  # suppose we don't want to mul thses vars and it is on server and you don't \n",
    "                #want to close the server, or terminate the program, thats why we use monkey patching"
   ]
  },
  {
   "cell_type": "code",
   "execution_count": 21,
   "metadata": {},
   "outputs": [
    {
     "name": "stdout",
     "output_type": "stream",
     "text": [
      "<__main__.billing object at 0x00A92130>\n"
     ]
    }
   ],
   "source": [
    "print(obj)"
   ]
  },
  {
   "cell_type": "code",
   "execution_count": 22,
   "metadata": {},
   "outputs": [
    {
     "data": {
      "text/plain": [
       "30"
      ]
     },
     "execution_count": 22,
     "metadata": {},
     "output_type": "execute_result"
    }
   ],
   "source": [
    "def fun(self,x,y):  #here \n",
    "    return x+y\n",
    "\n",
    "billing.cal=fun\n",
    "obj.cal(10,20)"
   ]
  },
  {
   "cell_type": "code",
   "execution_count": 26,
   "metadata": {},
   "outputs": [
    {
     "data": {
      "text/plain": [
       "'2020-01-17 16:20:11.498921'"
      ]
     },
     "execution_count": 26,
     "metadata": {},
     "output_type": "execute_result"
    }
   ],
   "source": [
    "import datetime\n",
    "str(datetime.datetime.now())"
   ]
  },
  {
   "cell_type": "code",
   "execution_count": null,
   "metadata": {
    "collapsed": true
   },
   "outputs": [],
   "source": []
  }
 ],
 "metadata": {
  "kernelspec": {
   "display_name": "Python 3",
   "language": "python",
   "name": "python3"
  },
  "language_info": {
   "codemirror_mode": {
    "name": "ipython",
    "version": 3
   },
   "file_extension": ".py",
   "mimetype": "text/x-python",
   "name": "python",
   "nbconvert_exporter": "python",
   "pygments_lexer": "ipython3",
   "version": "3.6.1"
  }
 },
 "nbformat": 4,
 "nbformat_minor": 2
}
