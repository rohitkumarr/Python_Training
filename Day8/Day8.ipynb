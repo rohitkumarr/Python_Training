{
 "cells": [
  {
   "cell_type": "code",
   "execution_count": 1,
   "metadata": {
    "collapsed": true
   },
   "outputs": [],
   "source": [
    "#--------------Logistic Regression-----------------"
   ]
  },
  {
   "cell_type": "code",
   "execution_count": 21,
   "metadata": {
    "collapsed": true
   },
   "outputs": [],
   "source": [
    "import numpy as np\n",
    "import pandas as pd\n",
    "import matplotlib.pyplot as plt\n",
    "import seaborn as sns\n",
    "from sklearn.linear_model import LogisticRegression\n",
    "from sklearn.model_selection import train_test_split\n",
    "from sklearn.metrics import accuracy_score"
   ]
  },
  {
   "cell_type": "code",
   "execution_count": 22,
   "metadata": {
    "collapsed": true
   },
   "outputs": [],
   "source": [
    "#########################################################################"
   ]
  },
  {
   "cell_type": "code",
   "execution_count": 23,
   "metadata": {},
   "outputs": [
    {
     "name": "stdout",
     "output_type": "stream",
     "text": [
      "shape of dataframe is  (569, 33)\n",
      "columns of dataframe is  Index(['id', 'diagnosis', 'radius_mean', 'texture_mean', 'perimeter_mean',\n",
      "       'area_mean', 'smoothness_mean', 'compactness_mean', 'concavity_mean',\n",
      "       'concave points_mean', 'symmetry_mean', 'fractal_dimension_mean',\n",
      "       'radius_se', 'texture_se', 'perimeter_se', 'area_se', 'smoothness_se',\n",
      "       'compactness_se', 'concavity_se', 'concave points_se', 'symmetry_se',\n",
      "       'fractal_dimension_se', 'radius_worst', 'texture_worst',\n",
      "       'perimeter_worst', 'area_worst', 'smoothness_worst',\n",
      "       'compactness_worst', 'concavity_worst', 'concave points_worst',\n",
      "       'symmetry_worst', 'fractal_dimension_worst', 'Unnamed: 32'],\n",
      "      dtype='object')\n",
      "data types of dataframe is  id                           int64\n",
      "diagnosis                   object\n",
      "radius_mean                float64\n",
      "texture_mean               float64\n",
      "perimeter_mean             float64\n",
      "area_mean                  float64\n",
      "smoothness_mean            float64\n",
      "compactness_mean           float64\n",
      "concavity_mean             float64\n",
      "concave points_mean        float64\n",
      "symmetry_mean              float64\n",
      "fractal_dimension_mean     float64\n",
      "radius_se                  float64\n",
      "texture_se                 float64\n",
      "perimeter_se               float64\n",
      "area_se                    float64\n",
      "smoothness_se              float64\n",
      "compactness_se             float64\n",
      "concavity_se               float64\n",
      "concave points_se          float64\n",
      "symmetry_se                float64\n",
      "fractal_dimension_se       float64\n",
      "radius_worst               float64\n",
      "texture_worst              float64\n",
      "perimeter_worst            float64\n",
      "area_worst                 float64\n",
      "smoothness_worst           float64\n",
      "compactness_worst          float64\n",
      "concavity_worst            float64\n",
      "concave points_worst       float64\n",
      "symmetry_worst             float64\n",
      "fractal_dimension_worst    float64\n",
      "Unnamed: 32                float64\n",
      "dtype: object\n"
     ]
    }
   ],
   "source": [
    "data = pd.read_csv(\"C:\\\\Users\\\\rohit143255\\\\Desktop\\\\data.csv\")\n",
    "print(\"shape of dataframe is \", data.shape)\n",
    "print(\"columns of dataframe is \", data.columns)\n",
    "print(\"data types of dataframe is \", data.dtypes)"
   ]
  },
  {
   "cell_type": "code",
   "execution_count": 24,
   "metadata": {
    "collapsed": true
   },
   "outputs": [],
   "source": [
    "###################################################################################"
   ]
  },
  {
   "cell_type": "code",
   "execution_count": 25,
   "metadata": {},
   "outputs": [],
   "source": [
    "data.drop('id', axis=1, inplace=True)  #beacuse id is irrelavent for this\n",
    "data.drop('Unnamed: 32', axis=1, inplace=True)  #it is also thats why we dopping it"
   ]
  },
  {
   "cell_type": "code",
   "execution_count": 26,
   "metadata": {},
   "outputs": [
    {
     "name": "stdout",
     "output_type": "stream",
     "text": [
      "data types of dataframe is  diagnosis                   object\n",
      "radius_mean                float64\n",
      "texture_mean               float64\n",
      "perimeter_mean             float64\n",
      "area_mean                  float64\n",
      "smoothness_mean            float64\n",
      "compactness_mean           float64\n",
      "concavity_mean             float64\n",
      "concave points_mean        float64\n",
      "symmetry_mean              float64\n",
      "fractal_dimension_mean     float64\n",
      "radius_se                  float64\n",
      "texture_se                 float64\n",
      "perimeter_se               float64\n",
      "area_se                    float64\n",
      "smoothness_se              float64\n",
      "compactness_se             float64\n",
      "concavity_se               float64\n",
      "concave points_se          float64\n",
      "symmetry_se                float64\n",
      "fractal_dimension_se       float64\n",
      "radius_worst               float64\n",
      "texture_worst              float64\n",
      "perimeter_worst            float64\n",
      "area_worst                 float64\n",
      "smoothness_worst           float64\n",
      "compactness_worst          float64\n",
      "concavity_worst            float64\n",
      "concave points_worst       float64\n",
      "symmetry_worst             float64\n",
      "fractal_dimension_worst    float64\n",
      "dtype: object\n"
     ]
    }
   ],
   "source": [
    "print(\"data types of dataframe is \", data.dtypes)"
   ]
  },
  {
   "cell_type": "code",
   "execution_count": 27,
   "metadata": {
    "collapsed": true
   },
   "outputs": [],
   "source": [
    "###################################################################################"
   ]
  },
  {
   "cell_type": "code",
   "execution_count": 28,
   "metadata": {},
   "outputs": [
    {
     "name": "stdout",
     "output_type": "stream",
     "text": [
      "List of mean column is  ['radius_mean', 'texture_mean', 'perimeter_mean', 'area_mean', 'smoothness_mean', 'compactness_mean', 'concavity_mean', 'concave points_mean', 'symmetry_mean', 'fractal_dimension_mean']\n"
     ]
    }
   ],
   "source": [
    "data['diagnosis']=data['diagnosis'].map({'M':1, 'B':0})  #it convert whenever m it convert 1 and when B it convert 0\n",
    "feature_mean=list(data.columns[1:11]) #making the list of independent vars\n",
    "print(\"List of mean column is \", feature_mean)  "
   ]
  },
  {
   "cell_type": "code",
   "execution_count": 29,
   "metadata": {
    "collapsed": true
   },
   "outputs": [],
   "source": [
    "###################################################################################"
   ]
  },
  {
   "cell_type": "code",
   "execution_count": 30,
   "metadata": {},
   "outputs": [
    {
     "data": {
      "image/png": "[encoded data removed]",
      "text/plain": [
       "<matplotlib.figure.Figure at 0xffc770>"
      ]
     },
     "metadata": {},
     "output_type": "display_data"
    }
   ],
   "source": [
    "sns.countplot(data['diagnosis'], label='count')\n",
    "plt.show()"
   ]
  },
  {
   "cell_type": "code",
   "execution_count": 31,
   "metadata": {
    "collapsed": true
   },
   "outputs": [],
   "source": [
    "###################################################################################"
   ]
  },
  {
   "cell_type": "code",
   "execution_count": 32,
   "metadata": {},
   "outputs": [
    {
     "name": "stdout",
     "output_type": "stream",
     "text": [
      "                        radius_mean  texture_mean  perimeter_mean  area_mean  \\\n",
      "radius_mean                1.000000      0.323782        0.997855   0.987357   \n",
      "texture_mean               0.323782      1.000000        0.329533   0.321086   \n",
      "perimeter_mean             0.997855      0.329533        1.000000   0.986507   \n",
      "area_mean                  0.987357      0.321086        0.986507   1.000000   \n",
      "smoothness_mean            0.170581     -0.023389        0.207278   0.177028   \n",
      "compactness_mean           0.506124      0.236702        0.556936   0.498502   \n",
      "concavity_mean             0.676764      0.302418        0.716136   0.685983   \n",
      "concave points_mean        0.822529      0.293464        0.850977   0.823269   \n",
      "symmetry_mean              0.147741      0.071401        0.183027   0.151293   \n",
      "fractal_dimension_mean    -0.311631     -0.076437       -0.261477  -0.283110   \n",
      "\n",
      "                        smoothness_mean  compactness_mean  concavity_mean  \\\n",
      "radius_mean                    0.170581          0.506124        0.676764   \n",
      "texture_mean                  -0.023389          0.236702        0.302418   \n",
      "perimeter_mean                 0.207278          0.556936        0.716136   \n",
      "area_mean                      0.177028          0.498502        0.685983   \n",
      "smoothness_mean                1.000000          0.659123        0.521984   \n",
      "compactness_mean               0.659123          1.000000        0.883121   \n",
      "concavity_mean                 0.521984          0.883121        1.000000   \n",
      "concave points_mean            0.553695          0.831135        0.921391   \n",
      "symmetry_mean                  0.557775          0.602641        0.500667   \n",
      "fractal_dimension_mean         0.584792          0.565369        0.336783   \n",
      "\n",
      "                        concave points_mean  symmetry_mean  \\\n",
      "radius_mean                        0.822529       0.147741   \n",
      "texture_mean                       0.293464       0.071401   \n",
      "perimeter_mean                     0.850977       0.183027   \n",
      "area_mean                          0.823269       0.151293   \n",
      "smoothness_mean                    0.553695       0.557775   \n",
      "compactness_mean                   0.831135       0.602641   \n",
      "concavity_mean                     0.921391       0.500667   \n",
      "concave points_mean                1.000000       0.462497   \n",
      "symmetry_mean                      0.462497       1.000000   \n",
      "fractal_dimension_mean             0.166917       0.479921   \n",
      "\n",
      "                        fractal_dimension_mean  \n",
      "radius_mean                          -0.311631  \n",
      "texture_mean                         -0.076437  \n",
      "perimeter_mean                       -0.261477  \n",
      "area_mean                            -0.283110  \n",
      "smoothness_mean                       0.584792  \n",
      "compactness_mean                      0.565369  \n",
      "concavity_mean                        0.336783  \n",
      "concave points_mean                   0.166917  \n",
      "symmetry_mean                         0.479921  \n",
      "fractal_dimension_mean                1.000000  \n"
     ]
    }
   ],
   "source": [
    "corr=data[feature_mean].corr()\n",
    "print(corr)"
   ]
  },
  {
   "cell_type": "code",
   "execution_count": 33,
   "metadata": {
    "collapsed": true
   },
   "outputs": [],
   "source": [
    "###################################################################################"
   ]
  },
  {
   "cell_type": "code",
   "execution_count": 34,
   "metadata": {},
   "outputs": [
    {
     "data": {
      "image/png": "[encoded data removed]",
      "text/plain": [
       "<matplotlib.figure.Figure at 0x11c81d0>"
      ]
     },
     "metadata": {},
     "output_type": "display_data"
    }
   ],
   "source": [
    "sns.heatmap(corr, cbar=True, square=True, cmap='coolwarm')  #cbar=color bar, cmap=color map\n",
    "plt.show()"
   ]
  },
  {
   "cell_type": "code",
   "execution_count": 35,
   "metadata": {
    "collapsed": true
   },
   "outputs": [],
   "source": [
    "###################################################################################"
   ]
  },
  {
   "cell_type": "code",
   "execution_count": 36,
   "metadata": {
    "collapsed": true
   },
   "outputs": [],
   "source": [
    "prediction_var = ['radius_mean',\"texture_mean\",\"smoothness_mean\",\"compactness_mean\",\"concave points_mean\",\"symmetry_mean\"] #in above graph we don't take higly correlated var ....look vertically, perimeter_mean and area mean are most redish so we don't take these "
   ]
  },
  {
   "cell_type": "code",
   "execution_count": 37,
   "metadata": {
    "collapsed": true
   },
   "outputs": [],
   "source": [
    "###################################################################################"
   ]
  },
  {
   "cell_type": "code",
   "execution_count": 63,
   "metadata": {},
   "outputs": [
    {
     "name": "stdout",
     "output_type": "stream",
     "text": [
      "shape of training dataset is  (398, 31)\n",
      "shape of testing dataset is  (171, 31)\n"
     ]
    }
   ],
   "source": [
    "train,test = train_test_split(data, test_size=0.3, random_state=5)\n",
    "print(\"shape of training dataset is \", train.shape)\n",
    "print(\"shape of testing dataset is \", test.shape)"
   ]
  },
  {
   "cell_type": "code",
   "execution_count": 64,
   "metadata": {
    "collapsed": true
   },
   "outputs": [],
   "source": [
    "###################################################################################"
   ]
  },
  {
   "cell_type": "code",
   "execution_count": 65,
   "metadata": {
    "collapsed": true
   },
   "outputs": [],
   "source": [
    "train_x=train[prediction_var]\n",
    "test_x= test[prediction_var]"
   ]
  },
  {
   "cell_type": "code",
   "execution_count": 66,
   "metadata": {
    "collapsed": true
   },
   "outputs": [],
   "source": [
    "###################################################################################"
   ]
  },
  {
   "cell_type": "code",
   "execution_count": 67,
   "metadata": {
    "collapsed": true
   },
   "outputs": [],
   "source": [
    "train_y=train.diagnosis\n",
    "test_y= test.diagnosis"
   ]
  },
  {
   "cell_type": "code",
   "execution_count": 68,
   "metadata": {
    "collapsed": true
   },
   "outputs": [],
   "source": [
    "###################################################################################"
   ]
  },
  {
   "cell_type": "code",
   "execution_count": 69,
   "metadata": {},
   "outputs": [
    {
     "name": "stdout",
     "output_type": "stream",
     "text": [
      "train_x shape is  (398, 6)\n",
      "test_x shape is  (171, 6)\n",
      "train_y shape is  (398,)\n",
      "test_y shape is  (171,)\n"
     ]
    }
   ],
   "source": [
    "print(\"train_x shape is \", train_x.shape)\n",
    "print(\"test_x shape is \", test_x.shape)\n",
    "print(\"train_y shape is \", train_y.shape)\n",
    "print(\"test_y shape is \", test_y.shape)"
   ]
  },
  {
   "cell_type": "code",
   "execution_count": 70,
   "metadata": {
    "collapsed": true
   },
   "outputs": [],
   "source": [
    "###################################################################################"
   ]
  },
  {
   "cell_type": "code",
   "execution_count": 71,
   "metadata": {},
   "outputs": [
    {
     "name": "stdout",
     "output_type": "stream",
     "text": [
      "accuracy of the model is  94.1520467836 %\n"
     ]
    }
   ],
   "source": [
    "logistic = LogisticRegression()\n",
    "logistic.fit(train_x, train_y)\n",
    "pv=logistic.predict(test_x)\n",
    "print('accuracy of the model is ', accuracy_score(pv, test_y)*100, \"%\")"
   ]
  },
  {
   "cell_type": "code",
   "execution_count": null,
   "metadata": {
    "collapsed": true
   },
   "outputs": [],
   "source": []
  },
  {
   "cell_type": "code",
   "execution_count": 74,
   "metadata": {
    "collapsed": true
   },
   "outputs": [],
   "source": [
    "######################################## wine.csv ###########################################"
   ]
  },
  {
   "cell_type": "code",
   "execution_count": null,
   "metadata": {
    "collapsed": true
   },
   "outputs": [],
   "source": []
  },
  {
   "cell_type": "code",
   "execution_count": 73,
   "metadata": {},
   "outputs": [
    {
     "name": "stdout",
     "output_type": "stream",
     "text": [
      "shape of dataframe is  (178, 14)\n",
      "columns of dataframe is  Index(['Alcohol', 'Malic acid', 'Ash', 'Alcalinity', 'Magnesium', 'phenols',\n",
      "       'Flavanoids', 'Nonflavanoid_phenols', 'Proanthocyanins',\n",
      "       'Color_intensity', 'Hue', 'OD280', 'Proline',\n",
      "       'customer_segment       '],\n",
      "      dtype='object')\n",
      "data types of dataframe is  Alcohol                    float64\n",
      "Malic acid                 float64\n",
      "Ash                        float64\n",
      "Alcalinity                 float64\n",
      "Magnesium                    int64\n",
      "phenols                    float64\n",
      "Flavanoids                 float64\n",
      "Nonflavanoid_phenols       float64\n",
      "Proanthocyanins            float64\n",
      "Color_intensity            float64\n",
      "Hue                        float64\n",
      "OD280                      float64\n",
      "Proline                      int64\n",
      "customer_segment             int64\n",
      "dtype: object\n"
     ]
    }
   ],
   "source": [
    "data = pd.read_csv(\"C:\\\\Users\\\\rohit143255\\\\Desktop\\\\wine.csv\")\n",
    "print(\"shape of dataframe is \", data.shape)\n",
    "print(\"columns of dataframe is \", data.columns)\n",
    "print(\"data types of dataframe is \", data.dtypes)"
   ]
  },
  {
   "cell_type": "code",
   "execution_count": 77,
   "metadata": {},
   "outputs": [],
   "source": [
    "data.rename(columns={'customer_segment       ':'customer_segment'}, inplace=True)  #rename coz customer_seg has spaces in last"
   ]
  },
  {
   "cell_type": "code",
   "execution_count": 79,
   "metadata": {},
   "outputs": [
    {
     "name": "stdout",
     "output_type": "stream",
     "text": [
      "columns of dataframe is  Index(['Alcohol', 'Malic acid', 'Ash', 'Alcalinity', 'Magnesium', 'phenols',\n",
      "       'Flavanoids', 'Nonflavanoid_phenols', 'Proanthocyanins',\n",
      "       'Color_intensity', 'Hue', 'OD280', 'Proline', 'customer_segment'],\n",
      "      dtype='object')\n"
     ]
    }
   ],
   "source": [
    "print(\"columns of dataframe is \", data.columns)"
   ]
  },
  {
   "cell_type": "code",
   "execution_count": null,
   "metadata": {
    "collapsed": true
   },
   "outputs": [],
   "source": [
    "###################################################################################"
   ]
  },
  {
   "cell_type": "code",
   "execution_count": 82,
   "metadata": {},
   "outputs": [
    {
     "name": "stdout",
     "output_type": "stream",
     "text": [
      "List of independent column is  ['Alcohol', 'Malic acid', 'Ash', 'Alcalinity', 'Magnesium', 'phenols', 'Flavanoids', 'Nonflavanoid_phenols', 'Proanthocyanins', 'Color_intensity', 'Hue', 'OD280', 'Proline']\n"
     ]
    }
   ],
   "source": [
    "independent_vars = list(data.columns[:13])\n",
    "print(\"List of independent column is \", independent_vars)"
   ]
  },
  {
   "cell_type": "code",
   "execution_count": null,
   "metadata": {
    "collapsed": true
   },
   "outputs": [],
   "source": [
    "###################################################################################"
   ]
  },
  {
   "cell_type": "code",
   "execution_count": 84,
   "metadata": {},
   "outputs": [
    {
     "data": {
      "image/png": "[encoded data removed]",
      "text/plain": [
       "<matplotlib.figure.Figure at 0x12c4a50>"
      ]
     },
     "metadata": {},
     "output_type": "display_data"
    }
   ],
   "source": [
    "sns.countplot(data['customer_segment'], label='count')\n",
    "plt.show()"
   ]
  },
  {
   "cell_type": "code",
   "execution_count": null,
   "metadata": {
    "collapsed": true
   },
   "outputs": [],
   "source": [
    "###################################################################################"
   ]
  },
  {
   "cell_type": "code",
   "execution_count": 85,
   "metadata": {},
   "outputs": [
    {
     "name": "stdout",
     "output_type": "stream",
     "text": [
      "                       Alcohol  Malic acid       Ash  Alcalinity  Magnesium  \\\n",
      "Alcohol               1.000000    0.094397  0.211545   -0.310235   0.270798   \n",
      "Malic acid            0.094397    1.000000  0.164045    0.288500  -0.054575   \n",
      "Ash                   0.211545    0.164045  1.000000    0.443367   0.286587   \n",
      "Alcalinity           -0.310235    0.288500  0.443367    1.000000  -0.083333   \n",
      "Magnesium             0.270798   -0.054575  0.286587   -0.083333   1.000000   \n",
      "phenols               0.289101   -0.335167  0.128980   -0.321113   0.214401   \n",
      "Flavanoids            0.236815   -0.411007  0.115077   -0.351370   0.195784   \n",
      "Nonflavanoid_phenols -0.155929    0.292977  0.186230    0.361922  -0.256294   \n",
      "Proanthocyanins       0.136698   -0.220746  0.009652   -0.197327   0.236441   \n",
      "Color_intensity       0.546364    0.248985  0.258887    0.018732   0.199950   \n",
      "Hue                  -0.071747   -0.561296 -0.074667   -0.273955   0.055398   \n",
      "OD280                 0.072343   -0.368710  0.003911   -0.276769   0.066004   \n",
      "Proline               0.643720   -0.192011  0.223626   -0.440597   0.393351   \n",
      "\n",
      "                       phenols  Flavanoids  Nonflavanoid_phenols  \\\n",
      "Alcohol               0.289101    0.236815             -0.155929   \n",
      "Malic acid           -0.335167   -0.411007              0.292977   \n",
      "Ash                   0.128980    0.115077              0.186230   \n",
      "Alcalinity           -0.321113   -0.351370              0.361922   \n",
      "Magnesium             0.214401    0.195784             -0.256294   \n",
      "phenols               1.000000    0.864564             -0.449935   \n",
      "Flavanoids            0.864564    1.000000             -0.537900   \n",
      "Nonflavanoid_phenols -0.449935   -0.537900              1.000000   \n",
      "Proanthocyanins       0.612413    0.652692             -0.365845   \n",
      "Color_intensity      -0.055136   -0.172379              0.139057   \n",
      "Hue                   0.433681    0.543479             -0.262640   \n",
      "OD280                 0.699949    0.787194             -0.503270   \n",
      "Proline               0.498115    0.494193             -0.311385   \n",
      "\n",
      "                      Proanthocyanins  Color_intensity       Hue     OD280  \\\n",
      "Alcohol                      0.136698         0.546364 -0.071747  0.072343   \n",
      "Malic acid                  -0.220746         0.248985 -0.561296 -0.368710   \n",
      "Ash                          0.009652         0.258887 -0.074667  0.003911   \n",
      "Alcalinity                  -0.197327         0.018732 -0.273955 -0.276769   \n",
      "Magnesium                    0.236441         0.199950  0.055398  0.066004   \n",
      "phenols                      0.612413        -0.055136  0.433681  0.699949   \n",
      "Flavanoids                   0.652692        -0.172379  0.543479  0.787194   \n",
      "Nonflavanoid_phenols        -0.365845         0.139057 -0.262640 -0.503270   \n",
      "Proanthocyanins              1.000000        -0.025250  0.295544  0.519067   \n",
      "Color_intensity             -0.025250         1.000000 -0.521813 -0.428815   \n",
      "Hue                          0.295544        -0.521813  1.000000  0.565468   \n",
      "OD280                        0.519067        -0.428815  0.565468  1.000000   \n",
      "Proline                      0.330417         0.316100  0.236183  0.312761   \n",
      "\n",
      "                       Proline  \n",
      "Alcohol               0.643720  \n",
      "Malic acid           -0.192011  \n",
      "Ash                   0.223626  \n",
      "Alcalinity           -0.440597  \n",
      "Magnesium             0.393351  \n",
      "phenols               0.498115  \n",
      "Flavanoids            0.494193  \n",
      "Nonflavanoid_phenols -0.311385  \n",
      "Proanthocyanins       0.330417  \n",
      "Color_intensity       0.316100  \n",
      "Hue                   0.236183  \n",
      "OD280                 0.312761  \n",
      "Proline               1.000000  \n"
     ]
    }
   ],
   "source": [
    "corr=data[independent_vars].corr()\n",
    "print(corr)"
   ]
  },
  {
   "cell_type": "code",
   "execution_count": null,
   "metadata": {
    "collapsed": true
   },
   "outputs": [],
   "source": [
    "###################################################################################"
   ]
  },
  {
   "cell_type": "code",
   "execution_count": 86,
   "metadata": {},
   "outputs": [
    {
     "data": {
      "image/png": "[encoded data removed]",
      "text/plain": [
       "<matplotlib.figure.Figure at 0x112b530>"
      ]
     },
     "metadata": {},
     "output_type": "display_data"
    }
   ],
   "source": [
    "sns.heatmap(corr, cbar=True, square=True, cmap='coolwarm')  #cbar=color bar, cmap=color map\n",
    "plt.show()"
   ]
  },
  {
   "cell_type": "code",
   "execution_count": null,
   "metadata": {
    "collapsed": true
   },
   "outputs": [],
   "source": [
    "###################################################################################"
   ]
  },
  {
   "cell_type": "code",
   "execution_count": 87,
   "metadata": {
    "collapsed": true
   },
   "outputs": [],
   "source": [
    "prediction_var = ['Alcohol', 'Malic acid', 'Ash', 'Alcalinity', 'Magnesium', 'phenols', 'Flavanoids', 'Nonflavanoid_phenols', 'Proanthocyanins', 'Color_intensity', 'Hue', 'OD280', 'Proline']"
   ]
  },
  {
   "cell_type": "code",
   "execution_count": null,
   "metadata": {
    "collapsed": true
   },
   "outputs": [],
   "source": [
    "###################################################################################"
   ]
  },
  {
   "cell_type": "code",
   "execution_count": 88,
   "metadata": {},
   "outputs": [
    {
     "name": "stdout",
     "output_type": "stream",
     "text": [
      "shape of training dataset is  (124, 14)\n",
      "shape of testing dataset is  (54, 14)\n"
     ]
    }
   ],
   "source": [
    "train,test = train_test_split(data, test_size=0.3, random_state=5)\n",
    "print(\"shape of training dataset is \", train.shape)\n",
    "print(\"shape of testing dataset is \", test.shape)"
   ]
  },
  {
   "cell_type": "code",
   "execution_count": null,
   "metadata": {
    "collapsed": true
   },
   "outputs": [],
   "source": [
    "###################################################################################"
   ]
  },
  {
   "cell_type": "code",
   "execution_count": 89,
   "metadata": {
    "collapsed": true
   },
   "outputs": [],
   "source": [
    "train_x=train[prediction_var]\n",
    "test_x= test[prediction_var]"
   ]
  },
  {
   "cell_type": "code",
   "execution_count": null,
   "metadata": {
    "collapsed": true
   },
   "outputs": [],
   "source": [
    "###################################################################################"
   ]
  },
  {
   "cell_type": "code",
   "execution_count": 90,
   "metadata": {
    "collapsed": true
   },
   "outputs": [],
   "source": [
    "train_y=train.customer_segment\n",
    "test_y= test.customer_segment"
   ]
  },
  {
   "cell_type": "code",
   "execution_count": null,
   "metadata": {
    "collapsed": true
   },
   "outputs": [],
   "source": [
    "###################################################################################"
   ]
  },
  {
   "cell_type": "code",
   "execution_count": 91,
   "metadata": {},
   "outputs": [
    {
     "name": "stdout",
     "output_type": "stream",
     "text": [
      "train_x shape is  (124, 13)\n",
      "test_x shape is  (54, 13)\n",
      "train_y shape is  (124,)\n",
      "test_y shape is  (54,)\n"
     ]
    }
   ],
   "source": [
    "print(\"train_x shape is \", train_x.shape)\n",
    "print(\"test_x shape is \", test_x.shape)\n",
    "print(\"train_y shape is \", train_y.shape)\n",
    "print(\"test_y shape is \", test_y.shape)"
   ]
  },
  {
   "cell_type": "code",
   "execution_count": null,
   "metadata": {
    "collapsed": true
   },
   "outputs": [],
   "source": [
    "###################################################################################"
   ]
  },
  {
   "cell_type": "code",
   "execution_count": 92,
   "metadata": {},
   "outputs": [
    {
     "name": "stdout",
     "output_type": "stream",
     "text": [
      "accuracy of the model is  92.5925925926 %\n"
     ]
    }
   ],
   "source": [
    "logistic = LogisticRegression()\n",
    "logistic.fit(train_x, train_y)\n",
    "pv=logistic.predict(test_x)\n",
    "print('accuracy of the model is ', accuracy_score(pv, test_y)*100, \"%\")"
   ]
  },
  {
   "cell_type": "code",
   "execution_count": null,
   "metadata": {
    "collapsed": true
   },
   "outputs": [],
   "source": []
  },
  {
   "cell_type": "code",
   "execution_count": null,
   "metadata": {
    "collapsed": true
   },
   "outputs": [],
   "source": []
  },
  {
   "cell_type": "code",
   "execution_count": 93,
   "metadata": {
    "collapsed": true
   },
   "outputs": [],
   "source": [
    "###########################  K-means clustering  ####################################"
   ]
  },
  {
   "cell_type": "code",
   "execution_count": null,
   "metadata": {
    "collapsed": true
   },
   "outputs": [],
   "source": []
  },
  {
   "cell_type": "code",
   "execution_count": null,
   "metadata": {
    "collapsed": true
   },
   "outputs": [],
   "source": []
  },
  {
   "cell_type": "code",
   "execution_count": 94,
   "metadata": {
    "collapsed": true
   },
   "outputs": [],
   "source": [
    "import matplotlib.pyplot as plt\n",
    "import numpy as np\n",
    "from sklearn.cluster import KMeans"
   ]
  },
  {
   "cell_type": "code",
   "execution_count": null,
   "metadata": {
    "collapsed": true
   },
   "outputs": [],
   "source": [
    "################## ploting the points on x and y axix like (1,2),(5,8),(1.5,1.8) ##########################"
   ]
  },
  {
   "cell_type": "code",
   "execution_count": 96,
   "metadata": {},
   "outputs": [
    {
     "data": {
      "image/png": "[encoded data removed]",
      "text/plain": [
       "<matplotlib.figure.Figure at 0x6254b90>"
      ]
     },
     "metadata": {},
     "output_type": "display_data"
    }
   ],
   "source": [
    "x=[1,5,1.5,8,1,9]\n",
    "y=[2,8,1.8,8,0.6,11]\n",
    "plt.scatter(x,y)\n",
    "plt.show()"
   ]
  },
  {
   "cell_type": "code",
   "execution_count": null,
   "metadata": {
    "collapsed": true
   },
   "outputs": [],
   "source": []
  },
  {
   "cell_type": "code",
   "execution_count": null,
   "metadata": {
    "collapsed": true
   },
   "outputs": [],
   "source": []
  },
  {
   "cell_type": "code",
   "execution_count": 98,
   "metadata": {},
   "outputs": [
    {
     "data": {
      "text/plain": [
       "KMeans(algorithm='auto', copy_x=True, init='k-means++', max_iter=300,\n",
       "    n_clusters=2, n_init=10, n_jobs=1, precompute_distances='auto',\n",
       "    random_state=None, tol=0.0001, verbose=0)"
      ]
     },
     "execution_count": 98,
     "metadata": {},
     "output_type": "execute_result"
    }
   ],
   "source": [
    "X=np.array([[1,2],[5,8],[1.5,1.8],[8,8],[1,0.6],[9,11]])\n",
    "model=KMeans(n_clusters=2)\n",
    "model.fit(X)"
   ]
  },
  {
   "cell_type": "code",
   "execution_count": null,
   "metadata": {
    "collapsed": true
   },
   "outputs": [],
   "source": []
  },
  {
   "cell_type": "code",
   "execution_count": 99,
   "metadata": {},
   "outputs": [
    {
     "name": "stdout",
     "output_type": "stream",
     "text": [
      "points lie in cluster numbers  [1 0 1 0 1 0]\n",
      "centroids  of cluster are  [[ 7.33333333  9.        ]\n",
      " [ 1.16666667  1.46666667]]\n"
     ]
    }
   ],
   "source": [
    "labels = model.labels_   # it puts points in clusters(bag) and named them as 0 or 1\n",
    "centroids = model.cluster_centers_\n",
    "print(\"points lie in cluster numbers \", labels)\n",
    "print(\"centroids  of cluster are \", centroids)"
   ]
  },
  {
   "cell_type": "code",
   "execution_count": null,
   "metadata": {
    "collapsed": true
   },
   "outputs": [],
   "source": []
  },
  {
   "cell_type": "code",
   "execution_count": 104,
   "metadata": {},
   "outputs": [
    {
     "data": {
      "image/png": "[encoded data removed]",
      "text/plain": [
       "<matplotlib.figure.Figure at 0x1208950>"
      ]
     },
     "metadata": {},
     "output_type": "display_data"
    }
   ],
   "source": [
    "colors=['g.','r.']\n",
    "for i in range(len(X)):\n",
    "    plt.plot(X[i][0], X[i][1], colors[labels[i]], markersize=10)\n",
    "    \n",
    "plt.scatter(centroids[:,0], centroids[:,1], marker='x', s=150)\n",
    "plt.show()   #In below fig cross(X) are centroids"
   ]
  },
  {
   "cell_type": "code",
   "execution_count": null,
   "metadata": {
    "collapsed": true
   },
   "outputs": [],
   "source": []
  }
 ],
 "metadata": {
  "kernelspec": {
   "display_name": "Python 3",
   "language": "python",
   "name": "python3"
  },
  "language_info": {
   "codemirror_mode": {
    "name": "ipython",
    "version": 3
   },
   "file_extension": ".py",
   "mimetype": "text/x-python",
   "name": "python",
   "nbconvert_exporter": "python",
   "pygments_lexer": "ipython3",
   "version": "3.6.1"
  }
 },
 "nbformat": 4,
 "nbformat_minor": 2
}
