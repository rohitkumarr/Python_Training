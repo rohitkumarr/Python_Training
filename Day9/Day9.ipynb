{
 "cells": [
  {
   "cell_type": "code",
   "execution_count": 1,
   "metadata": {
    "collapsed": true
   },
   "outputs": [],
   "source": [
    "#--------------Decision Tree-------------------------"
   ]
  },
  {
   "cell_type": "code",
   "execution_count": 114,
   "metadata": {},
   "outputs": [],
   "source": [
    "import numpy as np\n",
    "import pandas as pd\n",
    "import matplotlib.pyplot as plt\n",
    "import seaborn as sns\n",
    "from sklearn.tree import DecisionTreeClassifier\n",
    "from sklearn.model_selection import train_test_split\n",
    "from sklearn.metrics import accuracy_score"
   ]
  },
  {
   "cell_type": "code",
   "execution_count": 115,
   "metadata": {
    "collapsed": true
   },
   "outputs": [],
   "source": [
    "#########################################################################"
   ]
  },
  {
   "cell_type": "code",
   "execution_count": 116,
   "metadata": {
    "collapsed": true
   },
   "outputs": [],
   "source": [
    "######################################## wine.csv ###########################################"
   ]
  },
  {
   "cell_type": "code",
   "execution_count": null,
   "metadata": {
    "collapsed": true
   },
   "outputs": [],
   "source": []
  },
  {
   "cell_type": "code",
   "execution_count": 117,
   "metadata": {},
   "outputs": [
    {
     "name": "stdout",
     "output_type": "stream",
     "text": [
      "shape of dataframe is  (178, 14)\n",
      "columns of dataframe is  Index(['Alcohol', 'Malic acid', 'Ash', 'Alcalinity', 'Magnesium', 'phenols',\n",
      "       'Flavanoids', 'Nonflavanoid_phenols', 'Proanthocyanins',\n",
      "       'Color_intensity', 'Hue', 'OD280', 'Proline',\n",
      "       'customer_segment       '],\n",
      "      dtype='object')\n",
      "data types of dataframe is  Alcohol                    float64\n",
      "Malic acid                 float64\n",
      "Ash                        float64\n",
      "Alcalinity                 float64\n",
      "Magnesium                    int64\n",
      "phenols                    float64\n",
      "Flavanoids                 float64\n",
      "Nonflavanoid_phenols       float64\n",
      "Proanthocyanins            float64\n",
      "Color_intensity            float64\n",
      "Hue                        float64\n",
      "OD280                      float64\n",
      "Proline                      int64\n",
      "customer_segment             int64\n",
      "dtype: object\n"
     ]
    }
   ],
   "source": [
    "data = pd.read_csv(\"C:\\\\Users\\\\rohit143255\\\\Desktop\\\\wine.csv\")\n",
    "print(\"shape of dataframe is \", data.shape)\n",
    "print(\"columns of dataframe is \", data.columns)\n",
    "print(\"data types of dataframe is \", data.dtypes)"
   ]
  },
  {
   "cell_type": "code",
   "execution_count": 118,
   "metadata": {
    "collapsed": true
   },
   "outputs": [],
   "source": [
    "data.rename(columns={'customer_segment       ':'customer_segment'}, inplace=True)  #rename coz customer_seg has spaces in last"
   ]
  },
  {
   "cell_type": "code",
   "execution_count": 120,
   "metadata": {},
   "outputs": [
    {
     "name": "stdout",
     "output_type": "stream",
     "text": [
      "columns of dataframe is  Index(['Alcohol', 'Malic acid', 'Ash', 'Alcalinity', 'Magnesium', 'phenols',\n",
      "       'Flavanoids', 'Nonflavanoid_phenols', 'Proanthocyanins',\n",
      "       'Color_intensity', 'Hue', 'OD280', 'Proline', 'customer_segment'],\n",
      "      dtype='object')\n"
     ]
    }
   ],
   "source": [
    "print(\"columns of dataframe is \", data.columns)"
   ]
  },
  {
   "cell_type": "code",
   "execution_count": 8,
   "metadata": {
    "collapsed": true
   },
   "outputs": [],
   "source": [
    "###################################################################################"
   ]
  },
  {
   "cell_type": "code",
   "execution_count": 9,
   "metadata": {},
   "outputs": [
    {
     "name": "stdout",
     "output_type": "stream",
     "text": [
      "List of independent column is  ['Alcohol', 'Malic acid', 'Ash', 'Alcalinity', 'Magnesium', 'phenols', 'Flavanoids', 'Nonflavanoid_phenols', 'Proanthocyanins', 'Color_intensity', 'Hue', 'OD280', 'Proline']\n"
     ]
    }
   ],
   "source": [
    "independent_vars = list(data.columns[:13])\n",
    "print(\"List of independent column is \", independent_vars)"
   ]
  },
  {
   "cell_type": "code",
   "execution_count": 10,
   "metadata": {
    "collapsed": true
   },
   "outputs": [],
   "source": [
    "###################################################################################"
   ]
  },
  {
   "cell_type": "code",
   "execution_count": 11,
   "metadata": {},
   "outputs": [
    {
     "data": {
      "image/png": "[encoded data removed]",
      "text/plain": [
       "<matplotlib.figure.Figure at 0xa6ff430>"
      ]
     },
     "metadata": {},
     "output_type": "display_data"
    }
   ],
   "source": [
    "sns.countplot(data['customer_segment'], label='count')\n",
    "plt.show()"
   ]
  },
  {
   "cell_type": "code",
   "execution_count": 12,
   "metadata": {
    "collapsed": true
   },
   "outputs": [],
   "source": [
    "###################################################################################"
   ]
  },
  {
   "cell_type": "code",
   "execution_count": 13,
   "metadata": {},
   "outputs": [
    {
     "name": "stdout",
     "output_type": "stream",
     "text": [
      "                       Alcohol  Malic acid       Ash  Alcalinity  Magnesium  \\\n",
      "Alcohol               1.000000    0.094397  0.211545   -0.310235   0.270798   \n",
      "Malic acid            0.094397    1.000000  0.164045    0.288500  -0.054575   \n",
      "Ash                   0.211545    0.164045  1.000000    0.443367   0.286587   \n",
      "Alcalinity           -0.310235    0.288500  0.443367    1.000000  -0.083333   \n",
      "Magnesium             0.270798   -0.054575  0.286587   -0.083333   1.000000   \n",
      "phenols               0.289101   -0.335167  0.128980   -0.321113   0.214401   \n",
      "Flavanoids            0.236815   -0.411007  0.115077   -0.351370   0.195784   \n",
      "Nonflavanoid_phenols -0.155929    0.292977  0.186230    0.361922  -0.256294   \n",
      "Proanthocyanins       0.136698   -0.220746  0.009652   -0.197327   0.236441   \n",
      "Color_intensity       0.546364    0.248985  0.258887    0.018732   0.199950   \n",
      "Hue                  -0.071747   -0.561296 -0.074667   -0.273955   0.055398   \n",
      "OD280                 0.072343   -0.368710  0.003911   -0.276769   0.066004   \n",
      "Proline               0.643720   -0.192011  0.223626   -0.440597   0.393351   \n",
      "\n",
      "                       phenols  Flavanoids  Nonflavanoid_phenols  \\\n",
      "Alcohol               0.289101    0.236815             -0.155929   \n",
      "Malic acid           -0.335167   -0.411007              0.292977   \n",
      "Ash                   0.128980    0.115077              0.186230   \n",
      "Alcalinity           -0.321113   -0.351370              0.361922   \n",
      "Magnesium             0.214401    0.195784             -0.256294   \n",
      "phenols               1.000000    0.864564             -0.449935   \n",
      "Flavanoids            0.864564    1.000000             -0.537900   \n",
      "Nonflavanoid_phenols -0.449935   -0.537900              1.000000   \n",
      "Proanthocyanins       0.612413    0.652692             -0.365845   \n",
      "Color_intensity      -0.055136   -0.172379              0.139057   \n",
      "Hue                   0.433681    0.543479             -0.262640   \n",
      "OD280                 0.699949    0.787194             -0.503270   \n",
      "Proline               0.498115    0.494193             -0.311385   \n",
      "\n",
      "                      Proanthocyanins  Color_intensity       Hue     OD280  \\\n",
      "Alcohol                      0.136698         0.546364 -0.071747  0.072343   \n",
      "Malic acid                  -0.220746         0.248985 -0.561296 -0.368710   \n",
      "Ash                          0.009652         0.258887 -0.074667  0.003911   \n",
      "Alcalinity                  -0.197327         0.018732 -0.273955 -0.276769   \n",
      "Magnesium                    0.236441         0.199950  0.055398  0.066004   \n",
      "phenols                      0.612413        -0.055136  0.433681  0.699949   \n",
      "Flavanoids                   0.652692        -0.172379  0.543479  0.787194   \n",
      "Nonflavanoid_phenols        -0.365845         0.139057 -0.262640 -0.503270   \n",
      "Proanthocyanins              1.000000        -0.025250  0.295544  0.519067   \n",
      "Color_intensity             -0.025250         1.000000 -0.521813 -0.428815   \n",
      "Hue                          0.295544        -0.521813  1.000000  0.565468   \n",
      "OD280                        0.519067        -0.428815  0.565468  1.000000   \n",
      "Proline                      0.330417         0.316100  0.236183  0.312761   \n",
      "\n",
      "                       Proline  \n",
      "Alcohol               0.643720  \n",
      "Malic acid           -0.192011  \n",
      "Ash                   0.223626  \n",
      "Alcalinity           -0.440597  \n",
      "Magnesium             0.393351  \n",
      "phenols               0.498115  \n",
      "Flavanoids            0.494193  \n",
      "Nonflavanoid_phenols -0.311385  \n",
      "Proanthocyanins       0.330417  \n",
      "Color_intensity       0.316100  \n",
      "Hue                   0.236183  \n",
      "OD280                 0.312761  \n",
      "Proline               1.000000  \n"
     ]
    }
   ],
   "source": [
    "corr=data[independent_vars].corr()\n",
    "print(corr)"
   ]
  },
  {
   "cell_type": "code",
   "execution_count": 14,
   "metadata": {
    "collapsed": true
   },
   "outputs": [],
   "source": [
    "###################################################################################"
   ]
  },
  {
   "cell_type": "code",
   "execution_count": 15,
   "metadata": {},
   "outputs": [
    {
     "data": {
      "image/png": "[encoded data removed]",
      "text/plain": [
       "<matplotlib.figure.Figure at 0x151aa50>"
      ]
     },
     "metadata": {},
     "output_type": "display_data"
    }
   ],
   "source": [
    "sns.heatmap(corr, cbar=True, square=True, cmap='coolwarm')  #cbar=color bar, cmap=color map\n",
    "plt.show()"
   ]
  },
  {
   "cell_type": "code",
   "execution_count": 16,
   "metadata": {
    "collapsed": true
   },
   "outputs": [],
   "source": [
    "###################################################################################"
   ]
  },
  {
   "cell_type": "code",
   "execution_count": 17,
   "metadata": {
    "collapsed": true
   },
   "outputs": [],
   "source": [
    "prediction_var = ['Alcohol', 'Malic acid', 'Ash', 'Alcalinity', 'Magnesium', 'phenols', 'Flavanoids', 'Nonflavanoid_phenols', 'Proanthocyanins', 'Color_intensity', 'Hue', 'OD280', 'Proline']"
   ]
  },
  {
   "cell_type": "code",
   "execution_count": 18,
   "metadata": {
    "collapsed": true
   },
   "outputs": [],
   "source": [
    "###################################################################################"
   ]
  },
  {
   "cell_type": "code",
   "execution_count": 54,
   "metadata": {},
   "outputs": [
    {
     "name": "stdout",
     "output_type": "stream",
     "text": [
      "shape of training dataset is  (124, 14)\n",
      "shape of testing dataset is  (54, 14)\n"
     ]
    }
   ],
   "source": [
    "train,test = train_test_split(data, test_size=0.3, random_state=5)\n",
    "print(\"shape of training dataset is \", train.shape)\n",
    "print(\"shape of testing dataset is \", test.shape)"
   ]
  },
  {
   "cell_type": "code",
   "execution_count": 55,
   "metadata": {
    "collapsed": true
   },
   "outputs": [],
   "source": [
    "###################################################################################"
   ]
  },
  {
   "cell_type": "code",
   "execution_count": 56,
   "metadata": {
    "collapsed": true
   },
   "outputs": [],
   "source": [
    "train_x=train[prediction_var]\n",
    "test_x= test[prediction_var]"
   ]
  },
  {
   "cell_type": "code",
   "execution_count": 57,
   "metadata": {
    "collapsed": true
   },
   "outputs": [],
   "source": [
    "###################################################################################"
   ]
  },
  {
   "cell_type": "code",
   "execution_count": 58,
   "metadata": {
    "collapsed": true
   },
   "outputs": [],
   "source": [
    "train_y=train.customer_segment\n",
    "test_y= test.customer_segment"
   ]
  },
  {
   "cell_type": "code",
   "execution_count": 59,
   "metadata": {
    "collapsed": true
   },
   "outputs": [],
   "source": [
    "###################################################################################"
   ]
  },
  {
   "cell_type": "code",
   "execution_count": 60,
   "metadata": {},
   "outputs": [
    {
     "name": "stdout",
     "output_type": "stream",
     "text": [
      "train_x shape is  (124, 13)\n",
      "test_x shape is  (54, 13)\n",
      "train_y shape is  (124,)\n",
      "test_y shape is  (54,)\n"
     ]
    }
   ],
   "source": [
    "print(\"train_x shape is \", train_x.shape)\n",
    "print(\"test_x shape is \", test_x.shape)\n",
    "print(\"train_y shape is \", train_y.shape)\n",
    "print(\"test_y shape is \", test_y.shape)\n"
   ]
  },
  {
   "cell_type": "code",
   "execution_count": 61,
   "metadata": {
    "collapsed": true
   },
   "outputs": [],
   "source": [
    "###################################################################################"
   ]
  },
  {
   "cell_type": "code",
   "execution_count": 73,
   "metadata": {},
   "outputs": [
    {
     "name": "stdout",
     "output_type": "stream",
     "text": [
      "accuracy of the model is  92.5925925926 %\n"
     ]
    }
   ],
   "source": [
    "model = DecisionTreeClassifier()\n",
    "model.fit(train_x, train_y)\n",
    "pv=model.predict(test_x)\n",
    "print('accuracy of the model is ', accuracy_score(pv, test_y)*100, \"%\")"
   ]
  },
  {
   "cell_type": "code",
   "execution_count": null,
   "metadata": {
    "collapsed": true
   },
   "outputs": [],
   "source": []
  },
  {
   "cell_type": "code",
   "execution_count": 74,
   "metadata": {
    "collapsed": true
   },
   "outputs": [],
   "source": [
    "########################Random Forest######################################"
   ]
  },
  {
   "cell_type": "code",
   "execution_count": null,
   "metadata": {
    "collapsed": true
   },
   "outputs": [],
   "source": []
  },
  {
   "cell_type": "code",
   "execution_count": 90,
   "metadata": {
    "collapsed": true
   },
   "outputs": [],
   "source": [
    "import numpy as np\n",
    "import pandas as pd\n",
    "import matplotlib.pyplot as plt\n",
    "import seaborn as sns\n",
    "from sklearn.ensemble import RandomForestClassifier\n",
    "from sklearn.model_selection import train_test_split\n",
    "from sklearn.metrics import accuracy_score"
   ]
  },
  {
   "cell_type": "code",
   "execution_count": 91,
   "metadata": {
    "collapsed": true
   },
   "outputs": [],
   "source": [
    "######################################## wine.csv ###########################################"
   ]
  },
  {
   "cell_type": "code",
   "execution_count": 92,
   "metadata": {},
   "outputs": [
    {
     "name": "stdout",
     "output_type": "stream",
     "text": [
      "shape of dataframe is  (178, 14)\n",
      "columns of dataframe is  Index(['Alcohol', 'Malic acid', 'Ash', 'Alcalinity', 'Magnesium', 'phenols',\n",
      "       'Flavanoids', 'Nonflavanoid_phenols', 'Proanthocyanins',\n",
      "       'Color_intensity', 'Hue', 'OD280', 'Proline',\n",
      "       'customer_segment       '],\n",
      "      dtype='object')\n",
      "data types of dataframe is  Alcohol                    float64\n",
      "Malic acid                 float64\n",
      "Ash                        float64\n",
      "Alcalinity                 float64\n",
      "Magnesium                    int64\n",
      "phenols                    float64\n",
      "Flavanoids                 float64\n",
      "Nonflavanoid_phenols       float64\n",
      "Proanthocyanins            float64\n",
      "Color_intensity            float64\n",
      "Hue                        float64\n",
      "OD280                      float64\n",
      "Proline                      int64\n",
      "customer_segment             int64\n",
      "dtype: object\n"
     ]
    }
   ],
   "source": [
    "data = pd.read_csv(\"C:\\\\Users\\\\rohit143255\\\\Desktop\\\\wine.csv\")\n",
    "print(\"shape of dataframe is \", data.shape)\n",
    "print(\"columns of dataframe is \", data.columns)\n",
    "print(\"data types of dataframe is \", data.dtypes)"
   ]
  },
  {
   "cell_type": "code",
   "execution_count": 93,
   "metadata": {
    "collapsed": true
   },
   "outputs": [],
   "source": [
    "data.rename(columns={'customer_segment       ':'customer_segment'}, inplace=True)  #rename coz customer_seg has spaces in last"
   ]
  },
  {
   "cell_type": "code",
   "execution_count": 94,
   "metadata": {},
   "outputs": [
    {
     "name": "stdout",
     "output_type": "stream",
     "text": [
      "columns of dataframe is  Index(['Alcohol', 'Malic acid', 'Ash', 'Alcalinity', 'Magnesium', 'phenols',\n",
      "       'Flavanoids', 'Nonflavanoid_phenols', 'Proanthocyanins',\n",
      "       'Color_intensity', 'Hue', 'OD280', 'Proline', 'customer_segment'],\n",
      "      dtype='object')\n"
     ]
    }
   ],
   "source": [
    "print(\"columns of dataframe is \", data.columns)"
   ]
  },
  {
   "cell_type": "code",
   "execution_count": null,
   "metadata": {
    "collapsed": true
   },
   "outputs": [],
   "source": []
  },
  {
   "cell_type": "code",
   "execution_count": 95,
   "metadata": {},
   "outputs": [
    {
     "name": "stdout",
     "output_type": "stream",
     "text": [
      "List of independent column is  ['Alcohol', 'Malic acid', 'Ash', 'Alcalinity', 'Magnesium', 'phenols', 'Flavanoids', 'Nonflavanoid_phenols', 'Proanthocyanins', 'Color_intensity', 'Hue', 'OD280', 'Proline']\n"
     ]
    }
   ],
   "source": [
    "independent_vars = list(data.columns[:13])\n",
    "print(\"List of independent column is \", independent_vars)"
   ]
  },
  {
   "cell_type": "code",
   "execution_count": null,
   "metadata": {
    "collapsed": true
   },
   "outputs": [],
   "source": []
  },
  {
   "cell_type": "code",
   "execution_count": 96,
   "metadata": {},
   "outputs": [
    {
     "data": {
      "image/png": "[encoded data removed]",
      "text/plain": [
       "<matplotlib.figure.Figure at 0x15db1f0>"
      ]
     },
     "metadata": {},
     "output_type": "display_data"
    }
   ],
   "source": [
    "sns.countplot(data['customer_segment'], label='count')\n",
    "plt.show()"
   ]
  },
  {
   "cell_type": "code",
   "execution_count": null,
   "metadata": {
    "collapsed": true
   },
   "outputs": [],
   "source": []
  },
  {
   "cell_type": "code",
   "execution_count": 97,
   "metadata": {},
   "outputs": [
    {
     "name": "stdout",
     "output_type": "stream",
     "text": [
      "                       Alcohol  Malic acid       Ash  Alcalinity  Magnesium  \\\n",
      "Alcohol               1.000000    0.094397  0.211545   -0.310235   0.270798   \n",
      "Malic acid            0.094397    1.000000  0.164045    0.288500  -0.054575   \n",
      "Ash                   0.211545    0.164045  1.000000    0.443367   0.286587   \n",
      "Alcalinity           -0.310235    0.288500  0.443367    1.000000  -0.083333   \n",
      "Magnesium             0.270798   -0.054575  0.286587   -0.083333   1.000000   \n",
      "phenols               0.289101   -0.335167  0.128980   -0.321113   0.214401   \n",
      "Flavanoids            0.236815   -0.411007  0.115077   -0.351370   0.195784   \n",
      "Nonflavanoid_phenols -0.155929    0.292977  0.186230    0.361922  -0.256294   \n",
      "Proanthocyanins       0.136698   -0.220746  0.009652   -0.197327   0.236441   \n",
      "Color_intensity       0.546364    0.248985  0.258887    0.018732   0.199950   \n",
      "Hue                  -0.071747   -0.561296 -0.074667   -0.273955   0.055398   \n",
      "OD280                 0.072343   -0.368710  0.003911   -0.276769   0.066004   \n",
      "Proline               0.643720   -0.192011  0.223626   -0.440597   0.393351   \n",
      "\n",
      "                       phenols  Flavanoids  Nonflavanoid_phenols  \\\n",
      "Alcohol               0.289101    0.236815             -0.155929   \n",
      "Malic acid           -0.335167   -0.411007              0.292977   \n",
      "Ash                   0.128980    0.115077              0.186230   \n",
      "Alcalinity           -0.321113   -0.351370              0.361922   \n",
      "Magnesium             0.214401    0.195784             -0.256294   \n",
      "phenols               1.000000    0.864564             -0.449935   \n",
      "Flavanoids            0.864564    1.000000             -0.537900   \n",
      "Nonflavanoid_phenols -0.449935   -0.537900              1.000000   \n",
      "Proanthocyanins       0.612413    0.652692             -0.365845   \n",
      "Color_intensity      -0.055136   -0.172379              0.139057   \n",
      "Hue                   0.433681    0.543479             -0.262640   \n",
      "OD280                 0.699949    0.787194             -0.503270   \n",
      "Proline               0.498115    0.494193             -0.311385   \n",
      "\n",
      "                      Proanthocyanins  Color_intensity       Hue     OD280  \\\n",
      "Alcohol                      0.136698         0.546364 -0.071747  0.072343   \n",
      "Malic acid                  -0.220746         0.248985 -0.561296 -0.368710   \n",
      "Ash                          0.009652         0.258887 -0.074667  0.003911   \n",
      "Alcalinity                  -0.197327         0.018732 -0.273955 -0.276769   \n",
      "Magnesium                    0.236441         0.199950  0.055398  0.066004   \n",
      "phenols                      0.612413        -0.055136  0.433681  0.699949   \n",
      "Flavanoids                   0.652692        -0.172379  0.543479  0.787194   \n",
      "Nonflavanoid_phenols        -0.365845         0.139057 -0.262640 -0.503270   \n",
      "Proanthocyanins              1.000000        -0.025250  0.295544  0.519067   \n",
      "Color_intensity             -0.025250         1.000000 -0.521813 -0.428815   \n",
      "Hue                          0.295544        -0.521813  1.000000  0.565468   \n",
      "OD280                        0.519067        -0.428815  0.565468  1.000000   \n",
      "Proline                      0.330417         0.316100  0.236183  0.312761   \n",
      "\n",
      "                       Proline  \n",
      "Alcohol               0.643720  \n",
      "Malic acid           -0.192011  \n",
      "Ash                   0.223626  \n",
      "Alcalinity           -0.440597  \n",
      "Magnesium             0.393351  \n",
      "phenols               0.498115  \n",
      "Flavanoids            0.494193  \n",
      "Nonflavanoid_phenols -0.311385  \n",
      "Proanthocyanins       0.330417  \n",
      "Color_intensity       0.316100  \n",
      "Hue                   0.236183  \n",
      "OD280                 0.312761  \n",
      "Proline               1.000000  \n"
     ]
    }
   ],
   "source": [
    "corr=data[independent_vars].corr()\n",
    "print(corr)"
   ]
  },
  {
   "cell_type": "code",
   "execution_count": null,
   "metadata": {
    "collapsed": true
   },
   "outputs": [],
   "source": []
  },
  {
   "cell_type": "code",
   "execution_count": 98,
   "metadata": {},
   "outputs": [
    {
     "data": {
      "image/png": "[encoded data removed]",
      "text/plain": [
       "<matplotlib.figure.Figure at 0x1523e10>"
      ]
     },
     "metadata": {},
     "output_type": "display_data"
    }
   ],
   "source": [
    "sns.heatmap(corr, cbar=True, square=True, cmap='coolwarm')  #cbar=color bar, cmap=color map\n",
    "plt.show()"
   ]
  },
  {
   "cell_type": "code",
   "execution_count": null,
   "metadata": {
    "collapsed": true
   },
   "outputs": [],
   "source": []
  },
  {
   "cell_type": "code",
   "execution_count": 99,
   "metadata": {
    "collapsed": true
   },
   "outputs": [],
   "source": [
    "prediction_var = ['Alcohol', 'Malic acid', 'Ash', 'Alcalinity', 'Magnesium', 'phenols', 'Flavanoids', 'Nonflavanoid_phenols', 'Proanthocyanins', 'Color_intensity', 'Hue', 'OD280', 'Proline']"
   ]
  },
  {
   "cell_type": "code",
   "execution_count": null,
   "metadata": {
    "collapsed": true
   },
   "outputs": [],
   "source": []
  },
  {
   "cell_type": "code",
   "execution_count": 100,
   "metadata": {},
   "outputs": [
    {
     "name": "stdout",
     "output_type": "stream",
     "text": [
      "shape of training dataset is  (124, 14)\n",
      "shape of testing dataset is  (54, 14)\n"
     ]
    }
   ],
   "source": [
    "train,test = train_test_split(data, test_size=0.3, random_state=5)\n",
    "print(\"shape of training dataset is \", train.shape)\n",
    "print(\"shape of testing dataset is \", test.shape)"
   ]
  },
  {
   "cell_type": "code",
   "execution_count": null,
   "metadata": {
    "collapsed": true
   },
   "outputs": [],
   "source": []
  },
  {
   "cell_type": "code",
   "execution_count": 101,
   "metadata": {
    "collapsed": true
   },
   "outputs": [],
   "source": [
    "train_x=train[prediction_var]\n",
    "test_x= test[prediction_var]"
   ]
  },
  {
   "cell_type": "code",
   "execution_count": null,
   "metadata": {
    "collapsed": true
   },
   "outputs": [],
   "source": []
  },
  {
   "cell_type": "code",
   "execution_count": 102,
   "metadata": {
    "collapsed": true
   },
   "outputs": [],
   "source": [
    "train_y=train.customer_segment\n",
    "test_y= test.customer_segment"
   ]
  },
  {
   "cell_type": "code",
   "execution_count": 103,
   "metadata": {},
   "outputs": [
    {
     "name": "stdout",
     "output_type": "stream",
     "text": [
      "train_x shape is  (124, 13)\n",
      "test_x shape is  (54, 13)\n",
      "train_y shape is  (124,)\n",
      "test_y shape is  (54,)\n"
     ]
    }
   ],
   "source": [
    "print(\"train_x shape is \", train_x.shape)\n",
    "print(\"test_x shape is \", test_x.shape)\n",
    "print(\"train_y shape is \", train_y.shape)\n",
    "print(\"test_y shape is \", test_y.shape)"
   ]
  },
  {
   "cell_type": "code",
   "execution_count": null,
   "metadata": {
    "collapsed": true
   },
   "outputs": [],
   "source": []
  },
  {
   "cell_type": "code",
   "execution_count": 104,
   "metadata": {},
   "outputs": [
    {
     "name": "stdout",
     "output_type": "stream",
     "text": [
      "accuracy of the model is  98.1481481481 %\n"
     ]
    }
   ],
   "source": [
    "model = RandomForestClassifier(n_estimators=100) # means we are creating 100 decision trees...and here n_estimstors is hyperParameter\n",
    "model.fit(train_x, train_y)\n",
    "pv=model.predict(test_x)\n",
    "print('accuracy of the model is ', accuracy_score(pv, test_y)*100, \"%\")"
   ]
  },
  {
   "cell_type": "code",
   "execution_count": null,
   "metadata": {
    "collapsed": true
   },
   "outputs": [],
   "source": [
    "###############################################################################################################"
   ]
  },
  {
   "cell_type": "code",
   "execution_count": 109,
   "metadata": {},
   "outputs": [
    {
     "name": "stdout",
     "output_type": "stream",
     "text": [
      "[98.148148148148152, 98.148148148148152, 96.296296296296291, 98.148148148148152, 96.296296296296291, 98.148148148148152, 98.148148148148152, 98.148148148148152, 96.296296296296291, 98.148148148148152, 98.148148148148152, 98.148148148148152, 98.148148148148152, 96.296296296296291, 98.148148148148152, 96.296296296296291, 98.148148148148152, 98.148148148148152, 98.148148148148152, 98.148148148148152]\n"
     ]
    }
   ],
   "source": [
    "ans =[]\n",
    "for value in list(range(10,201,10)):\n",
    "    model = RandomForestClassifier(n_estimators=value) # means we are creating 100 decision trees\n",
    "    model.fit(train_x, train_y)\n",
    "    pv=model.predict(test_x)\n",
    "    accuracy= accuracy_score(pv, test_y)\n",
    "    ans.append(accuracy*100)\n",
    "print(ans)"
   ]
  },
  {
   "cell_type": "code",
   "execution_count": null,
   "metadata": {
    "collapsed": true
   },
   "outputs": [],
   "source": []
  },
  {
   "cell_type": "code",
   "execution_count": null,
   "metadata": {
    "collapsed": true
   },
   "outputs": [],
   "source": []
  },
  {
   "cell_type": "code",
   "execution_count": 110,
   "metadata": {
    "collapsed": true
   },
   "outputs": [],
   "source": [
    "################## Agglomarative Clustering (Unsupervised ML) ########################################"
   ]
  },
  {
   "cell_type": "code",
   "execution_count": null,
   "metadata": {},
   "outputs": [],
   "source": []
  },
  {
   "cell_type": "code",
   "execution_count": null,
   "metadata": {
    "collapsed": true
   },
   "outputs": [],
   "source": [
    "from scipy.cluster.hierarchy import dendogram, linkage\n"
   ]
  }
 ],
 "metadata": {
  "kernelspec": {
   "display_name": "Python 3",
   "language": "python",
   "name": "python3"
  },
  "language_info": {
   "codemirror_mode": {
    "name": "ipython",
    "version": 3
   },
   "file_extension": ".py",
   "mimetype": "text/x-python",
   "name": "python",
   "nbconvert_exporter": "python",
   "pygments_lexer": "ipython3",
   "version": "3.6.1"
  }
 },
 "nbformat": 4,
 "nbformat_minor": 2
}
